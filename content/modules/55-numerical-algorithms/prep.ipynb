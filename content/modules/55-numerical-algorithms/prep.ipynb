{
  "cells": [
    {
      "cell_type": "raw",
      "metadata": {},
      "source": [
        "---\n",
        "title: \"Numerical Algorithms\"\n",
        "---"
      ],
      "id": "20faae5d"
    },
    {
      "cell_type": "markdown",
      "metadata": {},
      "source": [
        "# Introduction\n",
        "\n",
        "In today's lab, we are going to use recurrence relations to analyze a *numerical algorithm*. Numerical algorithms are used for solving problems in computational mathematics. For example, your computer doesn't naturally \"just know\" how to compute things like $\\sin{x}$, $\\sqrt{x}$, or $\\log x$ -- people need to write *algorithms* for computing these quantities. Making these algorithms reliable and fast is one of the priorities of the field called *numerical analysis*, which sits at the intersection of mathematics and computer science. \n",
        "\n",
        "# Warmup (~50 mins)\n",
        "\n",
        "## Problem 1\n",
        "\n",
        "\n",
        "### Introduction\n",
        "\n",
        "\n",
        "Consider the following algorithm. This algorithm is used to compute a familiar mathematical quantity. It does so by repeatedly computing the sequence defined by the recurrence relation \n",
        "\n",
        "$$\n",
        "\\begin{aligned}\n",
        "    x_{n+1} = \\frac{1}{2}\\left(x_n + \\frac{a}{x_n}\\right)\n",
        "\\end{aligned}\n",
        "$$\n",
        "\n",
        "for some input number $a$. We do this until the difference $|x_{n+1} - x_n|$ is smaller than some $\\epsilon$. The algorithm outputs the final value of $x$ after this threshold is reached. Here's a more formal description of this algorithm in pseudocode: \n",
        "\n",
        "#### Algorithm 1  \n",
        "\n",
        "**Inputs**: nonnegative real number $a$, small positive real number $\\epsilon > 0$. \n",
        "\n",
        "1. Initialize $x = a + 1$, $\\Delta = 2\\epsilon$. \n",
        "2. While $\\Delta > \\epsilon$: \n",
        "    - $x_\\mathrm{new} \\gets \\frac{1}{2} \\left(x + \\frac{a}{x}\\right)$.\n",
        "    - $\\Delta \\gets |x_\\mathrm{new} - x|$. \n",
        "    - $x \\gets x_\\mathrm{new}$. \n",
        "3. Return $x$. \n",
        "\n",
        "## Part A\n",
        "\n",
        "Write a function in Python or Java that implements Algorithm 1. The user should be able to specify the values of $a$ and $\\epsilon$. \n",
        "\n",
        "**Notes**:\n",
        "\n",
        "- It is possible but not required (or easier) to do this with a recursive function. \n",
        "- Set the default value of $\\epsilon$ at $10^{-16}$. In Python this can be done by writing `epsilon = 1e-16` in the appropriate location. \n",
        "- It's fun, though not required, to print the value of $x$ at each iteration. \n",
        "\n",
        "\n",
        "::: {.content-visible when-meta='solution'}\n",
        "::: {.callout-note}\n",
        "\n",
        "Here is a Python implementation: "
      ],
      "id": "ee8fcf3b"
    },
    {
      "cell_type": "code",
      "metadata": {},
      "source": [
        "def mystery(a, epsilon = 1e-16):\n",
        "\n",
        "    # initialize\n",
        "    x     = a + 1\n",
        "    delta = 2*epsilon \n",
        "\n",
        "    # main loop\n",
        "    while delta > epsilon: \n",
        "        x_    = 1/2 * (x + a/x)\n",
        "        delta = x - x_ \n",
        "        x     = x_ \n",
        "        print(x)\n",
        "\n",
        "    return x"
      ],
      "id": "c2d08e1e",
      "execution_count": null,
      "outputs": []
    },
    {
      "cell_type": "markdown",
      "metadata": {},
      "source": [
        "We can call it like this: "
      ],
      "id": "60a33ca8"
    },
    {
      "cell_type": "code",
      "metadata": {},
      "source": [
        "mystery(81)"
      ],
      "id": "a6b26b03",
      "execution_count": null,
      "outputs": []
    },
    {
      "cell_type": "markdown",
      "metadata": {},
      "source": [
        ":::\n",
        ":::\n",
        "\n",
        "\n",
        "::: {.content-hidden when-meta='solution'}\n",
        "\n",
        "\n",
        "\\vspace{3cm}\n",
        "\n",
        ":::\n",
        "\n",
        "\n",
        "### Part B\n",
        "\n",
        "What familiar mathematical quantity does this function approximately compute? You don't have to reason about this function mathematically -- just try a few values of `a` and make an informed guess. \n",
        "\n",
        "***Note***: *proving the answer to this question, and describing how well the function approximates its target, is a classical question in numerical analysis.*\n",
        "\n",
        "::: {.content-visible when-meta='solution'}\n",
        "::: {.callout-note}\n",
        "\n",
        "After a few tries with different numbers, you might be able to guess that `mystery(a)` approximates the square root of `a`. \n",
        "\n",
        ":::\n",
        ":::\n",
        "\n",
        "\n",
        "::: {.content-hidden when-meta='solution'}\n",
        "\n",
        "\n",
        "\\vspace{3cm}\n",
        "\n",
        ":::\n"
      ],
      "id": "0beae0c9"
    }
  ],
  "metadata": {
    "kernelspec": {
      "name": "python3",
      "language": "python",
      "display_name": "Python 3 (ipykernel)"
    }
  },
  "nbformat": 4,
  "nbformat_minor": 5
}