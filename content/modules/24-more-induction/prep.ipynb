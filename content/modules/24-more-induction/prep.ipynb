{
  "cells": [
    {
      "cell_type": "raw",
      "metadata": {},
      "source": [
        "---\n",
        "title: \"More Induction\"\n",
        "---"
      ],
      "id": "83d4605d"
    },
    {
      "cell_type": "markdown",
      "metadata": {},
      "source": [
        "## Videos (~20 minutes)\n",
        "\n",
        "- [Induction Proofs Involving Inequalities](https://youtu.be/L5iCGi3dW-Y?si=XP6jtfQwr6RyDGYU) (6:34)\n",
        "- [Strong Induction](https://youtu.be/rfA0h9udl7E?si=UuQAuxqH5sn4QjOH) (10:08)\n",
        "\n",
        "## Reading (~30 minutes)\n",
        "\n",
        "- [DMOI Chapter 2](https://discrete.openmathbooks.org/dmoi3/sec_seq-induction.html). The new stuff is in \"Strong Induction\" until end, but you will benefit from reviewing the entire chapter. \n",
        " \n",
        "## Warmup (~50 minutes)\n",
        "\n",
        "### Problem 1\n",
        "\n",
        "You and your friend are playing the following (fun!) game. There are two piles of apples. The first player removes some positive integer number of apples from one of the piles. Then, the second player also removes some number of apples from one of the piles. Each player can remove any number of apples from *one* of the two piles, but cannot take apples from both piles simultaneously. \n",
        "\n",
        "The players alternate until one of them removes the very last apple (from either pile). That player, who removes the very last apple, wins. \n",
        "\n",
        "You deviously encourage your friend to go first. Then, you use a simple copycat strategy: whenever your friend removes $j$ apples from one pile, you always remove the same number $j$ apples from the second pile. \n",
        "\n",
        "Prove the following statement using strong induction: \n",
        "\n",
        "**Proposition**: *If at the beginning of the game the two piles contain the same number of apples, then you (the second player) always win using your copycat strategy.* \n",
        "\n",
        "\n",
        "::: {.content-visible when-meta='solution'}\n",
        "::: {.callout-note}\n",
        "\n",
        "We'll use strong induction on the number of apples in each pile. Suppose that each pile contains $n$ apples. \n",
        "\n",
        "**Base case**: suppose that $n=1$. Then, your friend (the first player) must remove an apple from one of the piles. You remove the other apple from the other pile. This is the last apple, so you win! \n",
        "\n",
        "**Strong inductive step**: suppose that the statement is true for all $n \\leq k$. We'll show that this implies that the statement is true for $n = k+1$. The first player must remove some number of apples (let's say $j$) from one of the piles. You then use your copycat strategy to remove $j$ apples from the other pile. Each pile now contains $k-j+1$ apples. Now it's as though we're beginning a new game with each pile containing $k - j + 1$ apples. But since $j\\geq 1$, $k-j+1 \\leq k$, so your copycat strategy will win in this new game too. This completes the strong inductive step. Therefore, your copycat strategy always wins.  \n",
        "\n",
        ":::\n",
        ":::\n",
        "\n",
        "\n",
        "\n",
        " \n",
        "### Problem 2   \n",
        "\n",
        "#### Motivation\n",
        "\n",
        "In computer science, we often use induction to prove the correctness of a function -- that is, we prove formally that the function does what it is supposed to do. This is sometimes called \"proving a function.\" For example, consider the Python function below, which reverses an input string using recursion.  "
      ],
      "id": "62fc36a7"
    },
    {
      "cell_type": "code",
      "metadata": {},
      "source": [
        "def reverse_string(s):\n",
        "    \"\"\"\n",
        "    reverse the string s. The first letter becomes the last letter, the second letter becomes the second-to-last letter, etc. \n",
        "\n",
        "    args: \n",
        "      s, the string to be reversed\n",
        "\n",
        "    returns: the reversed string\n",
        "    \"\"\"\n",
        "\n",
        "    if s == \"\":\n",
        "        return \"\"\n",
        "    else:\n",
        "        return reverse_string(s[1:]) + s[0]"
      ],
      "id": "fc1c17eb",
      "execution_count": null,
      "outputs": []
    },
    {
      "cell_type": "markdown",
      "metadata": {},
      "source": [
        "Here it is in action.  "
      ],
      "id": "9a87e58c"
    },
    {
      "cell_type": "code",
      "metadata": {},
      "source": [
        "reverse_string(\"CSCI 0200\")"
      ],
      "id": "c29c05c7",
      "execution_count": null,
      "outputs": []
    },
    {
      "cell_type": "markdown",
      "metadata": {},
      "source": [
        "We got the right answer for this input! But...would we get the right answer on *every* possible input? Let's write a proof which will *guarantee* that we will. \n",
        "\n",
        "#### Problem Statement\n",
        "\n",
        "We'll write a string with $n$ characters as $s_1s_2s_3\\cdots s_{n-2}s_{n-1}s_n$. \n",
        "\n",
        "Now we can state the thing we want to prove: \n",
        "\n",
        "**Proposition**: For any $n \\in \\mathbb{N}$, the result of calling the function `reverse_string` on the string $s_1s_2s_3\\cdots s_{n-2}s_{n-1}s_n$ is the reversal of $s$, that is, the string $s_ns_{n-1}s_{n-2}\\cdots s_3s_2s_1$. \n",
        "\n",
        "Prove this claim using induction. \n",
        "\n",
        "**Note**: The empty string $\\epsilon$ is the string with no elements at all; this string is its own reversal. \n",
        "\n",
        "::: {.content-visible when-meta=\"solution\"}\n",
        "::: {.callout-note}\n",
        "\n",
        "For notational simplicity, let $f$ be the name of the `reverse_string` function (just so that we don't have to keep writing `reverse_string` everywhere). \n",
        "\n",
        "**Base case**. If $n = 0$, then $s = \\epsilon$, the empty string. By the first two lines of the definition of $f$, $f(\\epsilon) = \\epsilon$. Since $\\epsilon$ is its own reverse, the base case is established. \n",
        "\n",
        "**Inductive step**. Suppose that the claim is true for some $n$. We'll show that this implies that the claim is also true for $n+1$. Let $s_1s_2s_3\\cdots s_{n-2}s_{n-1}s_{n}s_{n+1}$ be a string of length $n+1$. Then, from the second two lines of the definition of $f$, we have \n",
        "\n",
        "$$\n",
        "\\begin{aligned}\n",
        "    f(s_1s_2s_3\\cdots s_{n-2}s_{n-1}s_{n}s_{n+1}) &= f(s_2s_3\\cdots s_{n-2}s_{n-1}s_{n}s_{n+1})s_1 &\\text{(second two lines of $f$)}\\\\ \n",
        "    &= s_{n+1}s_ns_{n-1}s_{n-2}\\cdots s_3s_2s_1 & \\text{(inductive step)}\n",
        "\\end{aligned}\n",
        "$$\n",
        "\n",
        "This last expression is the correct reversal of the input string $s_1s_2s_3\\cdots s_{n-2}s_{n-1}s_{n}s_{n+1}$. This completes the inductive step and the proof. \n",
        "\n",
        "\n",
        ":::\n",
        ":::\n"
      ],
      "id": "681b4f7a"
    }
  ],
  "metadata": {
    "kernelspec": {
      "name": "python3",
      "language": "python",
      "display_name": "Python 3 (ipykernel)"
    }
  },
  "nbformat": 4,
  "nbformat_minor": 5
}